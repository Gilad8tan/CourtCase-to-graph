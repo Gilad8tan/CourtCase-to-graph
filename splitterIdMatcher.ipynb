{
 "cells": [
  {
   "cell_type": "code",
   "execution_count": 95,
   "id": "f0e612b3",
   "metadata": {},
   "outputs": [],
   "source": [
    "import os\n",
    "import pandas as pd\n",
    "import unicodedata\n",
    "import re\n",
    "import numpy as np\n",
    "from docx import Document\n"
   ]
  },
  {
   "cell_type": "code",
   "execution_count": 96,
   "id": "08044a4a",
   "metadata": {},
   "outputs": [],
   "source": [
    "regex=\"([x][a])\\w+\"\n",
    "reg2='[\\\\xa0]\\w+'\n",
    "reg3='[\\\\xa0]'\n",
    "reg4='[\\\\u200f]'\n",
    "shofet=[\"כב' ה\",'כבוד השופט','כבוד השופטת','הרשם','הרשמת']\n",
    "headWords=[\"נגד\",\"תובע\",\"נתבע\",\"משיב\",\"מערער\",'עו\"ד',\"פסק דין\"]\n",
    "word2=[\"לפני :\",\"בפני :\",\"בפני:\",\"בפני:\"]\n",
    "\n",
    "word2.append('בפני')\n",
    "word2.append('לפני')\n",
    "shofet2=[\"כב' ה\",'השופט','השופטת','הרשם','הרשמת']\n",
    "shofet3=[\"כב' ה\",'השופט','הרשם','הרשמת']"
   ]
  },
  {
   "cell_type": "code",
   "execution_count": 97,
   "id": "c0a6f011",
   "metadata": {},
   "outputs": [],
   "source": [
    "import unicodedata\n",
    "df1 = pd.read_csv('name-gen-tit-engname.csv')\n",
    "name_full=list()\n",
    "for i in range(len(df1)):\n",
    "    p=df1.iloc[i,1]\n",
    "    name_full.append(p)\n",
    "reg=\"\\d{2,4}\"\n",
    "\n",
    "\n",
    "\n",
    "srch=list()\n",
    "wtf=list()\n",
    "q=-1\n",
    "for i in name_full:\n",
    "    q=q+1\n",
    "    #print (i)\n",
    "    name=i.replace('ז\"ל','')\n",
    "    #print(name)\n",
    "    name=name.replace(\"-\",\" \")\n",
    "    name=name.replace('ד\"ר','')\n",
    "    #print(name)\n",
    "    x=re.search(reg,name)\n",
    "    if x:\n",
    "        #print(x)\n",
    "    \n",
    "        wtf.append(i)\n",
    "        \n",
    "    else:\n",
    "        #print('else')\n",
    "        t=list()\n",
    "        t.append(name)\n",
    "        #print(t)\n",
    "        \n",
    "        t.append(q)\n",
    "        srch.append(t)\n",
    "#need to make half name list or other way of srching   #######add only last name\n",
    "srch_names2=list()\n",
    "short_names=list()\n",
    "for i in range(len(srch)):\n",
    "    juj=list()\n",
    "    juj.append(srch[i][1])\n",
    "    juj.append(srch[i][0])\n",
    "    srch_names2.append(juj)\n",
    "    \n",
    "    \n",
    "    t=srch[i][0].split()\n",
    "    #print(t)\n",
    "    if len(t)==2:\n",
    "        #print(\"wawaawwawaawawawawawawaw\")\n",
    "        if len(t[1])>4:\n",
    "            juj=list()\n",
    "            juj.append(srch[i][1])\n",
    "        \n",
    "            juj.append(t[1])\n",
    "            short_names.append(juj)\n",
    "            \n",
    "        \n",
    "    fname=t[0]\n",
    "    #srch_trm=''\n",
    "    srch_trm=fname[:1]+\".\"\n",
    "    srch_trm2=fname[:1]+\"'\"\n",
    "    lname=''\n",
    "    \n",
    "    for j in range(1,len(t)):\n",
    "        #print('inforloop')\n",
    "        if len(t[j])>0:    \n",
    "            lname=lname+str(t[j])+' '\n",
    "            juj=list()\n",
    "            juj.append(srch[i][1])\n",
    "            juj.append(srch_trm+' '+lname)\n",
    "            srch_names2.append(juj)\n",
    "            juj=list()\n",
    "            juj.append(srch[i][1])\n",
    "            juj.append(srch_trm2+' '+lname)\n",
    "            srch_names2.append(juj)\n",
    "#####also need to arrange by len from long to short:\n",
    "\n",
    "        \n",
    "srch_names2.append([118, 'אידית קליימן '])\n"
   ]
  },
  {
   "cell_type": "code",
   "execution_count": 98,
   "id": "e03ca63e",
   "metadata": {},
   "outputs": [],
   "source": [
    "search_names=list()\n",
    "for i in range(len(srch_names2)):\n",
    "    search_names.append(srch_names2[i])\n",
    "for i in range(len(short_names)):\n",
    "    search_names.append(short_names[i])    "
   ]
  },
  {
   "cell_type": "code",
   "execution_count": 99,
   "id": "d4fa298d",
   "metadata": {},
   "outputs": [
    {
     "data": {
      "text/plain": [
       "6542"
      ]
     },
     "execution_count": 99,
     "metadata": {},
     "output_type": "execute_result"
    }
   ],
   "source": [
    "len(search_names)"
   ]
  },
  {
   "cell_type": "code",
   "execution_count": 100,
   "id": "b3c84696",
   "metadata": {},
   "outputs": [],
   "source": [
    "search_names.append([1374, 'מני מזוז '])"
   ]
  },
  {
   "cell_type": "code",
   "execution_count": 101,
   "id": "de803db6",
   "metadata": {},
   "outputs": [],
   "source": [
    "search_names.append([1374, 'מ. מזוז '])"
   ]
  },
  {
   "cell_type": "code",
   "execution_count": 102,
   "id": "ee967cd4",
   "metadata": {},
   "outputs": [],
   "source": [
    "search_names.append([1374, \"מ' מזוז \"])"
   ]
  },
  {
   "cell_type": "code",
   "execution_count": 103,
   "id": "f707a134",
   "metadata": {},
   "outputs": [
    {
     "data": {
      "text/plain": [
       "\"מ' מזוז \""
      ]
     },
     "execution_count": 103,
     "metadata": {},
     "output_type": "execute_result"
    }
   ],
   "source": [
    "search_names[6544][1]"
   ]
  },
  {
   "cell_type": "code",
   "execution_count": 104,
   "id": "b1654511",
   "metadata": {},
   "outputs": [
    {
     "name": "stdout",
     "output_type": "stream",
     "text": [
      "[1374, 'מנחם (מני) מאזוז ']\n",
      "[1374, 'מ. (מני) מאזוז ']\n",
      "[1374, \"מ' (מני) מאזוז \"]\n"
     ]
    }
   ],
   "source": [
    "for i in range(len(search_names)):\n",
    "    if  search_names[i][1].find('מאזוז')!=-1:\n",
    "        print(search_names[i])"
   ]
  },
  {
   "cell_type": "code",
   "execution_count": 105,
   "id": "9a8d0bd1",
   "metadata": {},
   "outputs": [],
   "source": [
    "###HEAD GETTER###   returns precise cutoff\n",
    "def head_idx(casee):\n",
    "    #print(\"start\")\n",
    "    case=casee[:500]\n",
    "    for word in headWords:\n",
    "        #print(word)\n",
    "        t=case.find(word.strip())\n",
    "        if t!=-1:\n",
    "            #print('0yay')\n",
    "            return t\n",
    "    for word in word2:\n",
    "        #print(word)\n",
    "        t=case.find(word.strip())\n",
    "        if t!=-1:\n",
    "            #print('01yay')\n",
    "            return t+100\n",
    "    for word in shofet3:\n",
    "        #print(word)\n",
    "        t=case.find(word.strip())\n",
    "        if t!=-1:\n",
    "            #print('02yay')\n",
    "            return t+100\n",
    "        \n",
    "    #if we got here - no matches\n",
    "    #so we give val\n",
    "    #print(\"wtf no matches\")\n",
    "    \n",
    "    return t"
   ]
  },
  {
   "cell_type": "code",
   "execution_count": 107,
   "id": "9d849847",
   "metadata": {},
   "outputs": [],
   "source": [
    "#DiFF:\n",
    "#get kind of procedure and number for easy search \n",
    "regg7 = \"[0-9]+\"+'\\/'+\"[0-9]\"\n",
    "regggie4='([0-9])+'+'-'+'([0-9])+'+'-'+'([0-9])+'\n",
    "regggie1='[א-ת]+'+'\"'+'[א-ת]'+' '\n",
    "regg8=regggie1+regg7\n",
    "regg9=regggie1+regggie4\n",
    "\n",
    "def caseNumListBod2(case) :\n",
    "    #return body cases list\n",
    "    retList=list()\n",
    "    y=re.findall(regg8,case)\n",
    "    #print(y)\n",
    "    #print(len(y))\n",
    "    end=0\n",
    "    for i in range(len(y)):\n",
    "        x=re.search(regg8,case[end:])\n",
    "        retList.append(case[x.start()+end:x.end()+end+1])\n",
    "        end=end+x.end()\n",
    "    y=re.findall(regg9,case)\n",
    "    end=0\n",
    "    #print(y)\n",
    "    #print(len(y))\n",
    "    for i in range(len(y)):\n",
    "        x=re.search(regg9,case[end:])\n",
    "        retList.append(case[x.start()+end:x.end()+end])\n",
    "        end=end+x.end()    \n",
    "    #print(retList)    \n",
    "    retList=list(dict.fromkeys(retList))    \n",
    "    \n",
    "    return retList    "
   ]
  },
  {
   "cell_type": "code",
   "execution_count": 108,
   "id": "b7c6b773",
   "metadata": {},
   "outputs": [],
   "source": [
    "#INPUT: case as txt from case list and headsplitter.\n",
    "#RETURN: list of pairs -  case num from head and case num from bod.\n",
    "\n",
    "\n",
    "\n",
    "#caseNumsLists=list()\n",
    "def nums_returner(case):\n",
    "    caseNumsList=list()\n",
    "    #first check bod , then get head , then merge list\n",
    "    bod = caseNumListBod2(case[1])\n",
    "    head = caseNumListBod2(case[0])\n",
    "    #print(bod)\n",
    "    #print(head)\n",
    "    if head!=[]:\n",
    "        \n",
    "        for i in range(len(bod)):\n",
    "            lilist=list()\n",
    "            lilist.append(head[0])\n",
    "            lilist.append(bod[i])\n",
    "            caseNumsList.append(lilist)\n",
    "    \n",
    "    return caseNumsList\n",
    "\n",
    "    \n",
    "    "
   ]
  },
  {
   "cell_type": "code",
   "execution_count": 109,
   "id": "4b31e81b",
   "metadata": {},
   "outputs": [],
   "source": [
    "def ret_bod_names(body):\n",
    "    lis=list()\n",
    "    mat=list()\n",
    "    matches=[(m.start(0)) for m in re.finditer('(השופט)',body)]\n",
    "    if len(matches)>0:\n",
    "        for i in matches:\n",
    "            lis.append(body[i:i+30])\n",
    "    matches=[(m.start(0)) for m in re.finditer('(הרשם)',body)]\n",
    "    if len(matches)>0:\n",
    "        for i in matches:\n",
    "            lis.append(body[i:i+30]) \n",
    "    matches=[(m.start(0)) for m in re.finditer('(הרשמת)',body)]\n",
    "    if len(matches)>0:\n",
    "        for i in matches:\n",
    "            lis.append(body[i:i+30])\n",
    "    \n",
    "    return lis\n",
    "    "
   ]
  },
  {
   "cell_type": "code",
   "execution_count": 110,
   "id": "0b69a7e6",
   "metadata": {},
   "outputs": [],
   "source": [
    "def get_edges(head_bod):\n",
    "    t=ret_head_names(head_bod[0])\n",
    "    p=ret_bod_names(head_bod[1])\n",
    "    if len(t)>0:\n",
    "        if len(p)>0:\n",
    "            heads=list()\n",
    "            tails=list()\n",
    "            for i in range(len(t)):\n",
    "                k=get_id(t[i])\n",
    "                if k:\n",
    "                    heads.append(k)\n",
    "            for i in range(len(p)):\n",
    "                k=get_id(p[i])\n",
    "                if k:\n",
    "                    tails.append(k)        \n",
    "            if (len(tails))!=0 and (len(heads))!=0:\n",
    "            #lists rdy. remove from 2nd the head ids\n",
    "                hed_id=list(dict.fromkeys(heads))\n",
    "                tail_id=list()\n",
    "                for i in range(len(tails)):\n",
    "                    if tails[i] not in hed_id:\n",
    "                        tail_id.append(tails[i])\n",
    "                        \n",
    "                if (len(tail_id))!=0 and (len(hed_id))!=0:\n",
    "                    edges=list()\n",
    "                    for hed in hed_id:\n",
    "                        for j in range(len(tail_id)):\n",
    "                            edges.append(str(hed)+';'+str(tail_id[j]))\n",
    "                    return edges        \n",
    "    else :\n",
    "        return None"
   ]
  },
  {
   "cell_type": "code",
   "execution_count": 111,
   "id": "91877a45",
   "metadata": {},
   "outputs": [],
   "source": [
    "def get_id(line):\n",
    "    rets=list()\n",
    "    line1=line.replace('\"','')\n",
    "    line1=line1.replace('-',' ')\n",
    "    for name in search_names:\n",
    "        \n",
    "        if line1.find(name[1].strip())!=-1:\n",
    "            rets.append(name[0])\n",
    "        \n",
    "    return rets \n",
    "            \n",
    "    "
   ]
  },
  {
   "cell_type": "code",
   "execution_count": 112,
   "id": "750273d0",
   "metadata": {},
   "outputs": [
    {
     "ename": "SyntaxError",
     "evalue": "invalid syntax (1426107879.py, line 1)",
     "output_type": "error",
     "traceback": [
      "\u001b[1;36m  Cell \u001b[1;32mIn[112], line 1\u001b[1;36m\u001b[0m\n\u001b[1;33m    C:/networks-proj/ksharim/crossmatch/TOTNEW.txt\u001b[0m\n\u001b[1;37m      ^\u001b[0m\n\u001b[1;31mSyntaxError\u001b[0m\u001b[1;31m:\u001b[0m invalid syntax\n"
     ]
    }
   ],
   "source": [
    "C:/networks-proj/ksharim/crossmatch/TOTNEW.txt\n",
    "C:\\networks-proj\\korotHaim"
   ]
  },
  {
   "cell_type": "code",
   "execution_count": 113,
   "id": "1f1bf5a8",
   "metadata": {},
   "outputs": [],
   "source": [
    "df1 = pd.read_csv('C:/networks-proj/korotHaim/id-Byear2.csv')\n"
   ]
  },
  {
   "cell_type": "code",
   "execution_count": 114,
   "id": "eeec564f",
   "metadata": {},
   "outputs": [
    {
     "ename": "NameError",
     "evalue": "name 'df2' is not defined",
     "output_type": "error",
     "traceback": [
      "\u001b[1;31m---------------------------------------------------------------------------\u001b[0m",
      "\u001b[1;31mNameError\u001b[0m                                 Traceback (most recent call last)",
      "Cell \u001b[1;32mIn[114], line 1\u001b[0m\n\u001b[1;32m----> 1\u001b[0m \u001b[38;5;28;01mfor\u001b[39;00m i \u001b[38;5;129;01min\u001b[39;00m \u001b[38;5;28mrange\u001b[39m(\u001b[38;5;28mlen\u001b[39m(\u001b[43mdf2\u001b[49m\u001b[38;5;241m.\u001b[39mindex)):\n\u001b[0;32m      2\u001b[0m     k\u001b[38;5;241m=\u001b[39mdf2\u001b[38;5;241m.\u001b[39miloc[i,\u001b[38;5;241m0\u001b[39m]\n\u001b[0;32m      3\u001b[0m     curr\u001b[38;5;241m=\u001b[39mk\u001b[38;5;241m.\u001b[39msplitlines()\n",
      "\u001b[1;31mNameError\u001b[0m: name 'df2' is not defined"
     ]
    }
   ],
   "source": [
    "for i in range(len(df2.index)):\n",
    "    k=df2.iloc[i,0]\n",
    "    curr=k.splitlines()\n",
    "    l_list.append(curr)\n",
    "print(len(l_list))\n"
   ]
  },
  {
   "cell_type": "code",
   "execution_count": 115,
   "id": "c1eb8f39",
   "metadata": {},
   "outputs": [],
   "source": [
    "id_birth=list()\n",
    "for i in range(len(df1)):\n",
    "    line=list()\n",
    "    line.append(df1.iloc[i,0])\n",
    "    line.append(df1.iloc[i,1])\n",
    "    id_birth.append(line)"
   ]
  },
  {
   "cell_type": "code",
   "execution_count": 116,
   "id": "d6928845",
   "metadata": {},
   "outputs": [],
   "source": [
    "for i in range(len(id_birth)):\n",
    "    if id_birth[i][1]>1000:\n",
    "        id_birth[i][1]=int(id_birth[i][1])"
   ]
  },
  {
   "cell_type": "code",
   "execution_count": 118,
   "id": "e7dd2364",
   "metadata": {},
   "outputs": [
    {
     "ename": "SyntaxError",
     "evalue": "EOL while scanning string literal (1656207486.py, line 2)",
     "output_type": "error",
     "traceback": [
      "\u001b[1;36m  Cell \u001b[1;32mIn[118], line 2\u001b[1;36m\u001b[0m\n\u001b[1;33m    'כבוד השופט נ הנדל, כבוד השופט מ מזוז, כבוד השופטת י וילנר\u001b[0m\n\u001b[1;37m                                                               ^\u001b[0m\n\u001b[1;31mSyntaxError\u001b[0m\u001b[1;31m:\u001b[0m EOL while scanning string literal\n"
     ]
    }
   ],
   "source": [
    "#make get id with file num \n",
    "'כבוד השופט נ הנדל, כבוד השופט מ מזוז, כבוד השופטת י וילנר "
   ]
  },
  {
   "cell_type": "code",
   "execution_count": 119,
   "id": "86ea4f2e",
   "metadata": {},
   "outputs": [],
   "source": [
    "t=get_id(\"כבוד השופט נ' הנדל, כבוד השופט מ' מזוז, כבוד השופטת י' וילנר\")"
   ]
  },
  {
   "cell_type": "code",
   "execution_count": 120,
   "id": "1b57bc65",
   "metadata": {
    "scrolled": false
   },
   "outputs": [
    {
     "name": "stdout",
     "output_type": "stream",
     "text": [
      "306\n",
      "58\n",
      "1177\n",
      "65\n",
      "306\n",
      "58\n",
      "1374\n",
      "62\n"
     ]
    }
   ],
   "source": [
    "for i in t:\n",
    "    date=2017\n",
    "    #if date-id_birth[int(i)][1]>30:\n",
    "        \n",
    "    print(i)\n",
    "    print(date-id_birth[int(i)][1])"
   ]
  },
  {
   "cell_type": "code",
   "execution_count": 144,
   "id": "dcf1a01b",
   "metadata": {},
   "outputs": [],
   "source": [
    "filee='C:/networks-proj/ksharim/crossmatch/last/use.txt'"
   ]
  },
  {
   "cell_type": "code",
   "execution_count": 145,
   "id": "8bae5910",
   "metadata": {},
   "outputs": [],
   "source": [
    "with open(filee, \"r\",encoding='utf-8') as txt:\n",
    "        cases=txt.readlines()\n",
    "        txte=list()\n",
    "        for i in cases:\n",
    "            line=i.replace('\\n','')\n",
    "            #line=line.replace(\"'\",'')\n",
    "        \n",
    "            if len(line)>1:\n",
    "                \n",
    "     \n",
    "                txte.append(line)"
   ]
  },
  {
   "cell_type": "code",
   "execution_count": 146,
   "id": "5fd11f09",
   "metadata": {},
   "outputs": [
    {
     "data": {
      "text/plain": [
       "24572"
      ]
     },
     "execution_count": 146,
     "metadata": {},
     "output_type": "execute_result"
    }
   ],
   "source": [
    "len(txte)"
   ]
  },
  {
   "cell_type": "code",
   "execution_count": 147,
   "id": "90e497ec",
   "metadata": {},
   "outputs": [
    {
     "data": {
      "text/plain": [
       "'ע\"פ 1530/04;כבוד הרשמת ג\\'מילה ג\\'בארין כליפה '"
      ]
     },
     "execution_count": 147,
     "metadata": {},
     "output_type": "execute_result"
    }
   ],
   "source": [
    "txte[8]"
   ]
  },
  {
   "cell_type": "code",
   "execution_count": 148,
   "id": "695ef1b1",
   "metadata": {},
   "outputs": [],
   "source": [
    "casses=list()\n",
    "for i in range(len(txte)):\n",
    "    lis=list()\n",
    "    t=txte[i].split(';')\n",
    "    tt=t[1].split(\",\")\n",
    "    lis.append(t[0].replace('\"',''))\n",
    "    for j in tt:\n",
    "        lis.append(j)\n",
    "    casses.append(lis)"
   ]
  },
  {
   "cell_type": "code",
   "execution_count": 149,
   "id": "1cc294c8",
   "metadata": {},
   "outputs": [
    {
     "data": {
      "text/plain": [
       "24572"
      ]
     },
     "execution_count": 149,
     "metadata": {},
     "output_type": "execute_result"
    }
   ],
   "source": [
    "len(casses)"
   ]
  },
  {
   "cell_type": "code",
   "execution_count": 150,
   "id": "e734417b",
   "metadata": {},
   "outputs": [
    {
     "data": {
      "text/plain": [
       "29"
      ]
     },
     "execution_count": 150,
     "metadata": {},
     "output_type": "execute_result"
    }
   ],
   "source": [
    "len(casses[20811][1])"
   ]
  },
  {
   "cell_type": "code",
   "execution_count": 151,
   "id": "9e53887a",
   "metadata": {},
   "outputs": [
    {
     "data": {
      "text/plain": [
       "4"
      ]
     },
     "execution_count": 151,
     "metadata": {},
     "output_type": "execute_result"
    }
   ],
   "source": [
    "len(casses[4177])"
   ]
  },
  {
   "cell_type": "code",
   "execution_count": 155,
   "id": "6a4c9572",
   "metadata": {
    "scrolled": true
   },
   "outputs": [
    {
     "name": "stdout",
     "output_type": "stream",
     "text": [
      "0\n",
      "[879]\n",
      "[]\n",
      "1\n"
     ]
    },
    {
     "ename": "IndexError",
     "evalue": "list index out of range",
     "output_type": "error",
     "traceback": [
      "\u001b[1;31m---------------------------------------------------------------------------\u001b[0m",
      "\u001b[1;31mIndexError\u001b[0m                                Traceback (most recent call last)",
      "Cell \u001b[1;32mIn[155], line 11\u001b[0m\n\u001b[0;32m      9\u001b[0m numOnly\u001b[38;5;241m=\u001b[39mcasses[i][\u001b[38;5;241m0\u001b[39m][space:]\n\u001b[0;32m     10\u001b[0m casY\u001b[38;5;241m=\u001b[39mnumOnly\u001b[38;5;241m.\u001b[39msplit(\u001b[38;5;124m'\u001b[39m\u001b[38;5;124m/\u001b[39m\u001b[38;5;124m'\u001b[39m)\n\u001b[1;32m---> 11\u001b[0m \u001b[38;5;28;01mif\u001b[39;00m \u001b[43mcasY\u001b[49m\u001b[43m[\u001b[49m\u001b[38;5;241;43m1\u001b[39;49m\u001b[43m]\u001b[49m\u001b[38;5;241m!=\u001b[39m\u001b[38;5;241m-\u001b[39m\u001b[38;5;241m1\u001b[39m:\n\u001b[0;32m     12\u001b[0m     \u001b[38;5;66;03m#we old style\u001b[39;00m\n\u001b[0;32m     13\u001b[0m     year\u001b[38;5;241m=\u001b[39m\u001b[38;5;28mint\u001b[39m(casY[\u001b[38;5;241m1\u001b[39m])\n\u001b[0;32m     14\u001b[0m \u001b[38;5;28;01melse\u001b[39;00m:\n",
      "\u001b[1;31mIndexError\u001b[0m: list index out of range"
     ]
    }
   ],
   "source": [
    "fullist=list()\n",
    "for i in range (len(casses)):\n",
    "    if len(casses[i][1])<2 and len(casses[i])==2:\n",
    "        continue\n",
    "    print(i)\n",
    "    case=list()\n",
    "    case.append(casses[i][0])\n",
    "    space=casses[i][0].find(' ')\n",
    "    numOnly=casses[i][0][space:]\n",
    "    casY=numOnly.split('/')\n",
    "    if cas\n",
    "    if casY[1]!=-1:\n",
    "        #we old style\n",
    "        year=int(casY[1])\n",
    "    else:\n",
    "        casY=numOnly.rfind('-')\n",
    "        year=int(numOnly[casY+1:])\n",
    "    if year<24:\n",
    "        year=2000+year\n",
    "    else:\n",
    "        year=1900+year\n",
    "    ####now we have year.\n",
    "    idlis=list()\n",
    "    for j in range(1,len(casses[i])-1):\n",
    "        \n",
    "        k=get_id(casses[i][j])\n",
    "        print(k)\n",
    "        if k!=[]:\n",
    "            for p in k:\n",
    "                idlis.append(p)\n",
    "    idlis=list(dict.fromkeys(idlis)) \n",
    "    #print(idlis)\n",
    "    #now cross year check:\n",
    "    \n",
    "    for j in idlis:\n",
    "        #print(\"kkk\"+str(year-id_birth[int(j)][1]))\n",
    "        if year-id_birth[int(j)][1]>29:\n",
    "            #print(\"kkk\"+year-id_birth[int(j)][1])\n",
    "            case.append(j)\n",
    "            \n",
    "    #fullist.append(case) \n",
    "    if len(case)>1:\n",
    "        \n",
    "        with open('C:/networks-proj/ksharim/crossmatch/caseID73.txt',  'a',encoding='utf-8') as f:\n",
    "            for i in range(len(case)-1):\n",
    "                f.write(str(case[i])+';')\n",
    "            f.write(str(case[len(case)-1])+'\\n')   \n",
    "            \n",
    "        \n",
    "        \n",
    "        \n",
    "        \n",
    "        "
   ]
  },
  {
   "cell_type": "code",
   "execution_count": 130,
   "id": "5e6792d1",
   "metadata": {},
   "outputs": [],
   "source": [
    "def get_ids2(head_bod):\n",
    "    t=ret_head_names(head_bod[0])\n",
    "    p=ret_bod_names(head_bod[1])\n",
    "    if len(t)>0:\n",
    "        if len(p)>0:\n",
    "            heads=list()\n",
    "            tails=list()\n",
    "            for i in range(len(t)):\n",
    "                k=get_id(t[i])\n",
    "                if k:\n",
    "                    heads.append(k)\n",
    "            #for i in range(len(p)):\n",
    "                #k=get_id(p[i])\n",
    "                #if k:\n",
    "                 #  tails.append(k)        \n",
    "            #if (len(tails))!=0 and (len(heads))!=0:\n",
    "            #lists rdy. remove from 2nd the head ids\n",
    "            hed_id=list(dict.fromkeys(heads))\n",
    "                #tail_id=list()\n",
    "                #for i in range(len(tails)):\n",
    "                    #if tails[i] not in hed_id:\n",
    "                        #tail_id.append(tails[i])\n",
    "                        \n",
    "                #if (len(tail_id))!=0 and (len(hed_id))!=0:\n",
    "            edges=list()\n",
    "            for hed in hed_id:\n",
    "                        \n",
    "                edges.append(str(hed))\n",
    "            return edges        \n",
    "    else :\n",
    "        return None"
   ]
  },
  {
   "cell_type": "code",
   "execution_count": 131,
   "id": "f4870e49",
   "metadata": {},
   "outputs": [],
   "source": [
    "def get_ids(head_bod):\n",
    "    t=ret_head_names(head_bod[0])\n",
    "    \n",
    "    if len(t)>0:\n",
    "        if 1>0:\n",
    "            heads=list()\n",
    "            \n",
    "            for i in range(len(t)):\n",
    "                k=get_id(t[i])\n",
    "                if k:\n",
    "                    heads.append(k)\n",
    "            \n",
    "                hed_id=list(dict.fromkeys(heads))\n",
    "                \n",
    "               \n",
    "                        \n",
    "                \n",
    "                return hed_id        \n",
    "    else :\n",
    "        return None"
   ]
  },
  {
   "cell_type": "code",
   "execution_count": 132,
   "id": "ab459516",
   "metadata": {},
   "outputs": [],
   "source": [
    "#better version:\n",
    "#we count how many JUJE we have in head if 1 ok else :\n",
    "regg1='(כבוד)'\n",
    "\n",
    "def ret_head_names(head):\n",
    "    liss=list()\n",
    "    x=re.findall(regg1,head)\n",
    "    \n",
    "    if (len(x))>1:\n",
    "        print('entered many')\n",
    "        #we found more then 1\n",
    "        #so we split around them and append them all\n",
    "        \n",
    "        y=re.search(regg1,head)\n",
    "        print(y.start())\n",
    "        head2=head[y.start():]\n",
    "        t=head2.split('כבוד')\n",
    "        for j in range(len(t)):\n",
    "            if len(t[j])>6:\n",
    "                if j!=len(t)-1:\n",
    "                    pos=t[j].find(',')\n",
    "                    liss.append (t[j][:pos]) \n",
    "                else:\n",
    "                    pos=t[j].find(',')\n",
    "                    \n",
    "                    liss.append (t[j][:pos])\n",
    "    else:\n",
    "        if len(x)==1:\n",
    "            x=re.search(regg1,head)\n",
    "            y=head[x.start()+11:].find(',')\n",
    "            if y!=-1:\n",
    "                liss.append(head[x.start():x.start()+y+11])\n",
    "            else:\n",
    "                liss.append(head[x.start():x.start()+50])\n",
    "        else:\n",
    "            print('wtf')\n",
    "                    \n",
    "    return liss    \n",
    "                \n",
    "                \n",
    "                \n",
    "            \n",
    "            "
   ]
  },
  {
   "cell_type": "code",
   "execution_count": 133,
   "id": "9b79a831",
   "metadata": {},
   "outputs": [],
   "source": [
    "## bad cases should go out the loop\n",
    "bad_cases=list()\n",
    "\n",
    "good_cases=list()\n",
    "\n",
    "for case in (cases):\n",
    "    if head_idx(case)!=-1:\n",
    "        good_cases.append(case)\n",
    "    else:\n",
    "        bad_cases.append(case)"
   ]
  },
  {
   "cell_type": "code",
   "execution_count": 134,
   "id": "30244c32",
   "metadata": {},
   "outputs": [],
   "source": [
    "#### NEW\n",
    "head_bod=list()\n",
    "for case in good_cases:\n",
    "    c=list()\n",
    "    bod_idx=head_idx(case)\n",
    "    head=case[:bod_idx]\n",
    "    bod=case[bod_idx:]\n",
    "    \n",
    "    c.append(head)\n",
    "    c.append(bod)\n",
    "    head_bod.append(c)\n",
    "    "
   ]
  },
  {
   "cell_type": "code",
   "execution_count": 135,
   "id": "7d021f51",
   "metadata": {},
   "outputs": [],
   "source": [
    "cut_where=list()\n",
    "for i in range(len(txte)):\n",
    "    \n",
    "    #this is cell so weellll its a stringin each\n",
    "    kk=txte[i].find(\"takd_id\")\n",
    "    if kk!=-1:\n",
    "        #we have match\n",
    "        cut_where.append(i)\n",
    "        \n",
    "cut_where=cut_where[1:]\n"
   ]
  },
  {
   "cell_type": "code",
   "execution_count": 137,
   "id": "da6d4397",
   "metadata": {},
   "outputs": [],
   "source": [
    "def year_get(cassse):\n",
    "    space=cassse.find(' ')\n",
    "    numOnly=cassse[space:]\n",
    "    casY=numOnly.rfind('/')\n",
    "    print(casY)\n",
    "    if casY!=-1:\n",
    "        #we old style\n",
    "        year=int(numOnly[casY+1:])\n",
    "    else:\n",
    "        casY=numOnly.rfind('-')\n",
    "        year=int(numOnly[casY+1:])\n",
    "    if year<24:\n",
    "        year=2000+year\n",
    "    else:\n",
    "        year=1900+year\n",
    "    return year    "
   ]
  },
  {
   "cell_type": "code",
   "execution_count": 138,
   "id": "e9cc621e",
   "metadata": {},
   "outputs": [
    {
     "data": {
      "text/plain": [
       "'בתא 47766-03-19'"
      ]
     },
     "execution_count": 138,
     "metadata": {},
     "output_type": "execute_result"
    }
   ],
   "source": [
    "casses[1][0]"
   ]
  },
  {
   "cell_type": "code",
   "execution_count": 139,
   "id": "1da83c31",
   "metadata": {},
   "outputs": [],
   "source": [
    "ppp=caseNumListBod2(casses[1][0])"
   ]
  },
  {
   "cell_type": "code",
   "execution_count": 234,
   "id": "4051796c",
   "metadata": {},
   "outputs": [
    {
     "data": {
      "text/plain": [
       "',takd_id: תא@12949-04-21;takd_s:20230611;takd_d:11.06.2023;takd_u:14.06.2023;mms_s:שלום;mms_p:64495;mms_y:2023;mms_v:2;orig_filename:838147db974343458d6c5964100d096d.html;taktzir_exist:0;kt_exist:0;,בית משפט השלום בנצרת,ת\"א 12949-04-21 פלוני נ\\' העמק ואח\\' ,תיק חיצוני: ,בפני ,כבוד השופטת הבכירה שאדן נאשף-אבו אחמד,תובעת,פלוני,נגד,נתבעים,1. המרכז הרפואי העמק,2. קופת חולים כללית חברה לתועלת הציבור,החלטה,אני קובעת דיון הוכחות ליום 4.2.24 שעה 10:00. ,העדויות הראשיות תישמענה בע\"פ, ללא תצהירים. ,התובעת תגיש תיק מוצגים מטעמה תוך 30 יום מהיום ; ,הנתבעים יגישו תיק מוצגים מטעמם תוך 30 יום לאחר מכן. ,הצדדים ידאגו לזמן עדיהם זמן סביר לפני דיון ההוכחות. ,ב\"כ הצדדים יהיו ערוכים לסכם טענותיהם בע\"פ בתום שמיעת הראיות. ,לדיון מוקצבות שעתיים, כולל זמן סיכומים בע\"פ. ,המזכירות תמציא העתק מהחלטה זו לצדדים ותזמנם כדין. ,ניתנה היום, כ\"ב סיוון תשפ\"ג, 11 יוני 2023, בהעדר הצדדים.'"
      ]
     },
     "execution_count": 234,
     "metadata": {},
     "output_type": "execute_result"
    }
   ],
   "source": [
    "cases[1]"
   ]
  },
  {
   "cell_type": "code",
   "execution_count": null,
   "id": "ddad8d3a",
   "metadata": {
    "scrolled": false
   },
   "outputs": [],
   "source": [
    "###################changesssss\n",
    "togeph=list()\n",
    "#bad_cases=list()\n",
    "count=0\n",
    "for filename in os.listdir(directory):\n",
    "    \n",
    "    if filename.endswith('.txt'):\n",
    "        count=count+1\n",
    "        print(count)\n",
    "        \n",
    "        \n",
    "        name='C:/networks-proj/ksharim/readyFull/cases/'+filename\n",
    "        print(name)\n",
    "        \n",
    "        with open(name, \"r\",encoding='utf-8') as txt:\n",
    "            mosdot_city=txt.readlines()\n",
    "        txte=list()\n",
    "        for i in mosdot_city:\n",
    "            line=i.replace('\\n','')\n",
    "            if len(line)>1:\n",
    "                p=re.sub(reg3,'',line)\n",
    "                p=re.sub(reg4,'',p)\n",
    "            #p=re.sub(reg5,\"'\",p)\n",
    "     \n",
    "                txte.append(p)\n",
    "        cut_where=list()\n",
    "        for i in range(len(txte)):\n",
    "    \n",
    "        #this is cell so weellll its a stringin each\n",
    "            kk=txte[i].find(\"takd_id\")\n",
    "            if kk!=-1:\n",
    "            #we have match\n",
    "                cut_where.append(i)\n",
    "        \n",
    "        cut_where=cut_where[1:]\n",
    "        print(\"len cutwhere:\"+str(len(cut_where)))\n",
    "        casess=list()\n",
    "        p=''\n",
    "        for i in range(len(txte)):\n",
    "            #print(count)\n",
    "            p=p+\",\"+(txte[i])\n",
    "    \n",
    "            if i+1 in cut_where:\n",
    "                casess.append(p)\n",
    "                p=''\n",
    "                \n",
    "        #good_cases=list()\n",
    "        #bad_cases=list()\n",
    "\n",
    "        ttpp=0\n",
    "        head_bod=list()\n",
    "        for case2 in casess:\n",
    "            ttpp=ttpp+1\n",
    "            print(\"cases2 index\"+str(ttpp))\n",
    "            c=list()\n",
    "            bod_idx=head_idx(case2)\n",
    "            head=case2[:bod_idx]\n",
    "            bod=case2[bod_idx:]\n",
    "    \n",
    "            c.append(head)\n",
    "            c.append(bod)\n",
    "            head_bod.append(c)\n",
    "            \n",
    "        countt=0    \n",
    "        print(\"len headnod: \"+str(len(head_bod)))\n",
    "        for case in head_bod:\n",
    "            #countt=countt+1\n",
    "            #print(countt)\n",
    "            t=get_id(case[0].replace('-',' '))\n",
    "            ppp=caseNumListBod2(case[0])\n",
    "            ttt=caseNumListBod2(case[1])\n",
    "            \n",
    "           \n",
    "                    \n",
    "                \n",
    "            \n",
    "            #v= ret_head_names(case[0])\n",
    "            #y=get_ids2(case)\n",
    "            if t!=[] and ppp!=[]:\n",
    "                q=year_get(ppp[0])\n",
    "                t=list(dict.fromkeys(t))\n",
    "                listit=list()\n",
    "                for tit in t:\n",
    "                    if year-id_birth[int(tit)][1]>29:\n",
    "                        listit.append(tit)\n",
    "                if listit!=[] and len(ttt)>0:        \n",
    "                    with open('C:/networks-proj/ksharim/crossmatch/casesWeHaveMAX.txt',  'a',encoding='utf-8') as f:\n",
    "                        f.write(str(ppp[0]) + ';')\n",
    "                        for lll in range(len(listit)):\n",
    "                            f.write(str(listit[lll]) + ';')\n",
    "                        if len(ttt)>0:    \n",
    "                            for kkk in range(len(ttt)-1):\n",
    "                                f.write(\"[\"+str(ttt[kkk]) +\"]\"+ ';')\n",
    "                            \n",
    "                            f.write(\"[\"+str(ttt[len(ttt)-1]) +\"]\"+ '\\n')\n",
    "                        else:\n",
    "                            f.write('\\n')\n",
    "                       \n",
    "           \n",
    "            \n",
    "        \n",
    "            \n",
    "        \n",
    "        \n",
    "        \n",
    "        \n",
    "        \n",
    "        \n",
    "                                    \n",
    "#df=pd.DataFrame(togeph)\n",
    "#name='C:/networks-proj/ksharim/readyFull/caseNums8.csv'\n",
    "#df.to_csv(name,index=False)\n",
    "\n",
    "        "
   ]
  }
 ],
 "metadata": {
  "kernelspec": {
   "display_name": "Python 3 (ipykernel)",
   "language": "python",
   "name": "python3"
  },
  "language_info": {
   "codemirror_mode": {
    "name": "ipython",
    "version": 3
   },
   "file_extension": ".py",
   "mimetype": "text/x-python",
   "name": "python",
   "nbconvert_exporter": "python",
   "pygments_lexer": "ipython3",
   "version": "3.9.6"
  }
 },
 "nbformat": 4,
 "nbformat_minor": 5
}
