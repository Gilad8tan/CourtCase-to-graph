{
 "cells": [
  {
   "cell_type": "code",
   "execution_count": 4,
   "id": "a7909098",
   "metadata": {},
   "outputs": [],
   "source": [
    "import time\n",
    "import pandas as pd\n",
    "#from selenium import webdriver\n",
    "#from selenium.webdriver.chrome.service import Service\n",
    "#from selenium.webdriver.chrome.options import Options\n",
    "#from webdriver_manager.chrome import ChromeDriverManager\n",
    "from selenium.webdriver.common.by import By\n",
    "###changes:\n",
    "#from selenium import webdriver\n",
    "#from selenium.webdriver.chrome.service import Service\n",
    "\n",
    "service = Service()\n",
    "options = webdriver.ChromeOptions()\n",
    "driver = webdriver.Chrome(service=service, options=options)\n",
    "\n",
    "\n",
    "\n",
    "from selenium.webdriver.support.ui import WebDriverWait\n",
    "from selenium.webdriver.support import expected_conditions as EC\n",
    "###\n",
    "##changed the with webdreiver.firefox()\n",
    "#options = Options()\n",
    "options.add_experimental_option(\"detach\", True)\n",
    "\n",
    "#with webdriver.Chrome(service=Service(ChromeDriverManager().install()),options=options) as driver:\n",
    "    ####\n",
    "#driver = webdriver.Chrome(service=Service(ChromeDriverManager().install()),options=options)\n",
    "    # Open URL\n",
    "driver.get(\"https://walla.co.il\")\n",
    "\n",
    "    # Setup wait for later\n",
    "wait = WebDriverWait(driver, 10)\n",
    "\n",
    "    # Store the ID of the original window\n",
    "original_window = driver.current_window_handle\n",
    "\n",
    "# Check we don't have other windows open already\n",
    "assert len(driver.window_handles) == 1\n",
    "\n",
    "    # Click the link which opens in a new window\n",
    "    #driver.find_element(By.LINK_TEXT, \"new window\").click()\n",
    "\n",
    "    # Wait for the new window or tab\n",
    "    #wait.until(EC.number_of_windows_to_be(2))\n",
    "\n",
    "    # Loop through until we find a new window handle\n",
    "    #for window_handle in driver.window_handles:\n",
    "        #if window_handle != original_window:\n",
    "            #driver.switch_to.window(window_handle)\n",
    "            #break\n",
    "\n",
    "    # Wait for the new tab to finish loading content\n",
    "    #wait.until(EC.title_is(\"SeleniumHQ Browser Automation\"))\n",
    "    ########visibility_of_element_located\n",
    "driver.implicitly_wait(10) \n",
    "\n",
    "\n",
    "\n",
    "\n",
    "\n",
    "driver.switch_to.new_window('tab')\n",
    "\n",
    "    # Opens a new window and switches to new window\n",
    "driver.switch_to.new_window('window')\n",
    "\n",
    "\n",
    "\n",
    "\n",
    "\n",
    "\n",
    "\n"
   ]
  },
  {
   "cell_type": "code",
   "execution_count": 1,
   "id": "5e76c666",
   "metadata": {},
   "outputs": [],
   "source": [
    "#Fill and run for auto login\n",
    "site_to_login=\"SITE ADDRESS\"\n",
    "username = \"USERNAME\"\n",
    "password = \"PASSWORD\"\n",
    "site_start_point= \"site main starting point \"\n"
   ]
  },
  {
   "cell_type": "code",
   "execution_count": 5,
   "id": "28f9e966",
   "metadata": {},
   "outputs": [],
   "source": [
    "#SPECIFIC FOR MY USAGE"
   ]
  },
  {
   "cell_type": "code",
   "execution_count": 6,
   "id": "9ad3dc78",
   "metadata": {},
   "outputs": [],
   "source": [
    "driver.get(site_to_login)\n",
    "time.sleep(5)\n",
    "spam = driver.find_element(By.CLASS_NAME,\"ORRU02D-k-b\")\n",
    "spam.click()\n",
    "time.sleep(5)\n",
    "email=driver.find_element(By.NAME,\"loginfmt\").send_keys(username)\n",
    "click = driver.find_element(By.ID,\"idSIButton9\").click()\n",
    "time.sleep(5)\n",
    "passw=driver.find_element(By.NAME,\"passwd\").send_keys(password)\n",
    "time.sleep(5)\n",
    "click = driver.find_element(By.ID,\"idSIButton9\").click()\n"
   ]
  },
  {
   "cell_type": "code",
   "execution_count": 8,
   "id": "8d2650e2",
   "metadata": {},
   "outputs": [],
   "source": [
    "#####start from site - do manual login in driver window\n",
    "searr=driver.find_element(By.XPATH,('//*[@id=\"form1\"]/div[5]/div/div[1]/a')).click()\n",
    "#driver.switch_to.new_window('window')\n"
   ]
  },
  {
   "cell_type": "code",
   "execution_count": 11,
   "id": "8fa0033f",
   "metadata": {},
   "outputs": [],
   "source": [
    "#now loop for srch items\n",
    "with open('searchWORDS.txt','r',encoding=\"utf8\") as names2:\n",
    "    name2=names2.readlines()\n",
    "words=list()\n",
    "for i in range(len(name2)):\n",
    "    words.append(name2[i].replace('\\n',''))\n"
   ]
  },
  {
   "cell_type": "code",
   "execution_count": 5,
   "id": "abbf640b",
   "metadata": {},
   "outputs": [],
   "source": [
    "df=pd.read_csv('namesNidxes.csv')\n"
   ]
  },
  {
   "cell_type": "code",
   "execution_count": 6,
   "id": "630ddece",
   "metadata": {
    "scrolled": true
   },
   "outputs": [
    {
     "data": {
      "text/plain": [
       "str"
      ]
     },
     "execution_count": 6,
     "metadata": {},
     "output_type": "execute_result"
    }
   ],
   "source": [
    "type(df.iloc[5,0])"
   ]
  },
  {
   "cell_type": "code",
   "execution_count": 7,
   "id": "e2cc1096",
   "metadata": {},
   "outputs": [],
   "source": [
    "df\n",
    "names=list()\n",
    "idxes=list()\n",
    "for i in range(len(df)):\n",
    "    \n",
    "    names.append(str(df.iloc[i,0]))\n",
    "    idxes.append(int(df.iloc[i,1]))\n",
    "\n"
   ]
  },
  {
   "cell_type": "code",
   "execution_count": 8,
   "id": "733fa1a6",
   "metadata": {},
   "outputs": [
    {
     "data": {
      "text/plain": [
       "1677"
      ]
     },
     "execution_count": 8,
     "metadata": {},
     "output_type": "execute_result"
    }
   ],
   "source": [
    "len(names)"
   ]
  },
  {
   "cell_type": "code",
   "execution_count": 9,
   "id": "c7eed084",
   "metadata": {},
   "outputs": [
    {
     "data": {
      "text/plain": [
       "1677"
      ]
     },
     "execution_count": 9,
     "metadata": {},
     "output_type": "execute_result"
    }
   ],
   "source": [
    "len(idxes)"
   ]
  },
  {
   "cell_type": "code",
   "execution_count": null,
   "id": "d1c9e03e",
   "metadata": {},
   "outputs": [],
   "source": [
    "#dont set len , start from i in end last run"
   ]
  },
  {
   "cell_type": "code",
   "execution_count": 9,
   "id": "4446620b",
   "metadata": {},
   "outputs": [],
   "source": [
    "#set len for check list\n",
    "clean=clean[90:800] "
   ]
  },
  {
   "cell_type": "markdown",
   "id": "902d0ef6",
   "metadata": {},
   "source": [
    "<a class=\"redLink\" id=\"anyWordsLink1\" href=\"javascript:wordsManager.AddAnyWordsDiv(1);\" style=\"display: \">הוסף</a>"
   ]
  },
  {
   "cell_type": "code",
   "execution_count": 124,
   "id": "da388736",
   "metadata": {},
   "outputs": [],
   "source": [
    "click=driver.find_element(By.ID,\"anyWordsLink1\")\n",
    "#do twice 333333\n",
    "click.click()\n",
    "click.click()\n",
    "click.click()"
   ]
  },
  {
   "cell_type": "code",
   "execution_count": 64,
   "id": "cf612483",
   "metadata": {},
   "outputs": [],
   "source": [
    "box=driver.find_element(By.ID,\"anyWordsTxt1_1\")\n",
    "box.send_keys(words[0])"
   ]
  },
  {
   "cell_type": "code",
   "execution_count": 179,
   "id": "f91c3350",
   "metadata": {},
   "outputs": [
    {
     "data": {
      "text/plain": [
       "['בדנ\"א',\n",
       " 'בבג\"ץ',\n",
       " 'בבג\"צ',\n",
       " 'בע\"פ',\n",
       " 'בד\"נ',\n",
       " 'בדנג\"ץ',\n",
       " 'ברע\"א',\n",
       " 'ברע\"פ',\n",
       " 'בדנ\"פ',\n",
       " 'בע\"ו',\n",
       " 'בע\"א']"
      ]
     },
     "execution_count": 179,
     "metadata": {},
     "output_type": "execute_result"
    }
   ],
   "source": [
    "words"
   ]
  },
  {
   "cell_type": "code",
   "execution_count": 69,
   "id": "b45e3c85",
   "metadata": {},
   "outputs": [],
   "source": [
    "box=driver.find_element(By.ID,\"anyWordsTxt1_2_1\")\n",
    "box.send_keys(words[3])\n",
    "box=driver.find_element(By.ID,\"anyWordsTxt1_2_2\")\n",
    "box.send_keys(words[4])\n",
    "box=driver.find_element(By.ID,\"anyWordsTxt1_2_3\")\n",
    "box.send_keys(words[5])\n",
    "box=driver.find_element(By.ID,\"anyWordsTxt1_3_1\")\n",
    "box.send_keys(words[6])\n",
    "box=driver.find_element(By.ID,\"anyWordsTxt1_3_2\")\n",
    "box.send_keys(words[7])\n",
    "box=driver.find_element(By.ID,\"anyWordsTxt1_3_2\")\n",
    "box.send_keys(words[8])\n",
    "box=driver.find_element(By.ID,\"anyWordsTxt1_3_2\")\n",
    "box.send_keys(words[9])\n",
    "box=driver.find_element(By.ID,\"anyWordsTxt1_3_2\")\n",
    "box.send_keys(words[10])"
   ]
  },
  {
   "cell_type": "code",
   "execution_count": 89,
   "id": "6ac9b84b",
   "metadata": {},
   "outputs": [],
   "source": [
    "box=driver.find_element(By.ID,\"anyWordsTxt1_1\")\n",
    "box.send_keys(words[0])\n",
    "box=driver.find_element(By.ID,\"anyWordsTxt1_2\")\n",
    "box.send_keys(words[1])\n",
    "box=driver.find_element(By.ID,\"anyWordsTxt1_3\")\n",
    "box.send_keys(words[2])\n",
    "box=driver.find_element(By.ID,\"anyWordsTxt1_2_1\")\n",
    "box.send_keys(words[3])\n",
    "box=driver.find_element(By.ID,\"anyWordsTxt1_2_2\")\n",
    "box.send_keys(words[4])\n",
    "box=driver.find_element(By.ID,\"anyWordsTxt1_2_3\")\n",
    "box.send_keys(words[5])\n",
    "box=driver.find_element(By.ID,\"anyWordsTxt1_3_1\")\n",
    "box.send_keys(words[6])\n",
    "box=driver.find_element(By.ID,\"anyWordsTxt1_3_2\")\n",
    "box.send_keys(words[7])\n",
    "box=driver.find_element(By.ID,\"anyWordsTxt1_3_3\")\n",
    "box.send_keys(words[8])\n",
    "box=driver.find_element(By.ID,\"anyWordsTxt1_4_1\")\n",
    "box.send_keys(words[9])\n",
    "box=driver.find_element(By.ID,\"anyWordsTxt1_4_2\")\n",
    "box.send_keys(words[10])"
   ]
  },
  {
   "cell_type": "code",
   "execution_count": 126,
   "id": "aa1b25a1",
   "metadata": {},
   "outputs": [],
   "source": [
    "box=driver.find_element(By.ID,\"anyWordsTxt1_1\")\n",
    "box.send_keys(words[0])\n",
    "box=driver.find_element(By.ID,\"anyWordsTxt1_2\")\n",
    "box.send_keys(words[1])\n",
    "box=driver.find_element(By.ID,\"anyWordsTxt1_3\")\n",
    "box.send_keys(words[2])\n",
    "box=driver.find_element(By.ID,\"anyWordsTxt1_2_1\")\n",
    "box.send_keys(words[3])\n",
    "box=driver.find_element(By.ID,\"anyWordsTxt1_2_2\")\n",
    "box.send_keys(words[4])\n",
    "box=driver.find_element(By.ID,\"anyWordsTxt1_2_3\")\n",
    "box.send_keys(words[5])\n",
    "box=driver.find_element(By.ID,\"anyWordsTxt1_3_1\")\n",
    "box.send_keys(words[6])"
   ]
  },
  {
   "cell_type": "code",
   "execution_count": 125,
   "id": "100c9d8c",
   "metadata": {},
   "outputs": [],
   "source": [
    "####names\n",
    "shofet=driver.find_element(By.ID,\"ctl00_mainContentPlaceHolder_judgesTxt\").send_keys(clean[26])"
   ]
  },
  {
   "cell_type": "code",
   "execution_count": 139,
   "id": "3da390eb",
   "metadata": {},
   "outputs": [
    {
     "data": {
      "text/plain": [
       "864"
      ]
     },
     "execution_count": 139,
     "metadata": {},
     "output_type": "execute_result"
    }
   ],
   "source": [
    "len(clean)"
   ]
  },
  {
   "cell_type": "code",
   "execution_count": 127,
   "id": "5bb1b971",
   "metadata": {},
   "outputs": [],
   "source": [
    "click=driver.find_element(By.ID,\"ctl00_mainContentPlaceHolder_searchBtn\").click()"
   ]
  },
  {
   "cell_type": "code",
   "execution_count": 129,
   "id": "8ad181b7",
   "metadata": {},
   "outputs": [],
   "source": [
    "driver.get(site_start_point)"
   ]
  },
  {
   "cell_type": "code",
   "execution_count": null,
   "id": "96dfd8ea",
   "metadata": {},
   "outputs": [],
   "source": [
    "time.sleep(15)"
   ]
  },
  {
   "cell_type": "code",
   "execution_count": null,
   "id": "121fdab0",
   "metadata": {},
   "outputs": [],
   "source": [
    "results=list()\n",
    "free_edges=list()\n",
    "\n",
    "for i in range(len(clean)):\n",
    "    juj=list()\n",
    "    juj.append(i)\n",
    "    for j in words:\n",
    "        \n",
    "        #searr=driver.find_element(By.XPATH,('//*[@id=\"form1\"]/div[5]/div/div[1]/a'))\n",
    "        driver.get(site_start_point)\n",
    "        #searr.click()\n",
    "        time.sleep(5)\n",
    "        #send keys name shofet\n",
    "        shofet=driver.find_element(By.ID,\"ctl00_mainContentPlaceHolder_judgesTxt\").send_keys(clean[i])\n",
    "        #click meduyak\n",
    "        click=driver.find_element(By.ID,\"ctl00_mainContentPlaceHolder_morphSelect_morphTypesRadioList_4\").click()\n",
    "        word=driver.find_element(By.ID,\"allWordsTxt1_1\").send_keys(j)\n",
    "        click=driver.find_element(By.ID,\"ctl00_mainContentPlaceHolder_searchBtn\").click()\n",
    "        time.sleep(10)\n",
    "        res= driver.find_element(By.CLASS_NAME,\"ResultCount\")\n",
    "        if res:\n",
    "            if int(res.text)>10:\n",
    "                juj.append(int(res.text))\n",
    "    results.append(juj)"
   ]
  },
  {
   "cell_type": "code",
   "execution_count": null,
   "id": "5ef90f2a",
   "metadata": {
    "scrolled": true
   },
   "outputs": [],
   "source": [
    "###if results exist(wait untill) we make list of the links , link,court,filenum, len, ++++ judge name ++ next judje name-\n",
    "### if exists - free link , else we send to srch list , by srched judge name+text + link(href)\n",
    "####\n",
    "https://www-dinimveod-co-il.eu1.proxy.openathens.net/Search.aspx"
   ]
  },
  {
   "cell_type": "code",
   "execution_count": null,
   "id": "a1e1f5ad",
   "metadata": {},
   "outputs": [],
   "source": [
    "def getchunk(clean,num_start):\n",
    "    \n",
    "    results=list()\n",
    "    free_edges=list()\n",
    "    \n",
    "    for i in range(len(clean)):\n",
    "        juj=list()\n",
    "        juj.append(i)\n",
    "        driver.get(site_start_point)\n",
    "    #searr.click()\n",
    "        time.sleep(5)\n",
    "    #send keys name shofet\n",
    "        shofet=driver.find_element(By.ID,\"ctl00_mainContentPlaceHolder_judgesTxt\").send_keys(clean[i])\n",
    "        click=driver.find_element(By.ID,\"anyWordsLink1\").click()\n",
    "        click=driver.find_element(By.ID,\"anyWordsLink1\").click()\n",
    "        click=driver.find_element(By.ID,\"anyWordsLink1\").click()\n",
    "        box=driver.find_element(By.ID,\"anyWordsTxt1_1\")\n",
    "        box.send_keys(words[0])\n",
    "        box=driver.find_element(By.ID,\"anyWordsTxt1_2\")\n",
    "        box.send_keys(words[1])\n",
    "        box=driver.find_element(By.ID,\"anyWordsTxt1_3\")\n",
    "        box.send_keys(words[2])\n",
    "        box=driver.find_element(By.ID,\"anyWordsTxt1_2_1\")\n",
    "        box.send_keys(words[3])\n",
    "        box=driver.find_element(By.ID,\"anyWordsTxt1_2_2\")\n",
    "        box.send_keys(words[4])\n",
    "        box=driver.find_element(By.ID,\"anyWordsTxt1_2_3\")\n",
    "        box.send_keys(words[5])\n",
    "        box=driver.find_element(By.ID,\"anyWordsTxt1_3_1\")\n",
    "        box.send_keys(words[6])\n",
    "        box=driver.find_element(By.ID,\"anyWordsTxt1_3_2\")\n",
    "        box.send_keys(words[7])\n",
    "        box=driver.find_element(By.ID,\"anyWordsTxt1_3_3\")\n",
    "        box.send_keys(words[8])\n",
    "        box=driver.find_element(By.ID,\"anyWordsTxt1_4_1\")\n",
    "        box.send_keys(words[9])\n",
    "        box=driver.find_element(By.ID,\"anyWordsTxt1_4_2\")\n",
    "        box.send_keys(words[10])\n",
    "        time.sleep(5)\n",
    "        click=driver.find_element(By.ID,\"ctl00_mainContentPlaceHolder_morphSelect_morphTypesRadioList_4\").click()\n",
    "        click=driver.find_element(By.ID,\"ctl00_mainContentPlaceHolder_searchBtn\").click()\n",
    "        res= driver.find_element(By.CLASS_NAME,\"ResultCount\")\n",
    "        wait.until(EC.visibility_of(res) or EC. )\n",
    "        if res:\n",
    "                if int(res.text)>4:\n",
    "                    juj.append(int(res.text))\n",
    "                \n",
    "                ######\n",
    "                ##now need extract all text loop\n",
    "                    table=driver.find_element(By.ID,\"tblResult\")\n",
    "                    t=table.text\n",
    "                #can add check to extract excact contact\n",
    "                \n",
    "                    \n",
    "                    #now need to steal list of links from here:\n",
    "                    ur_links=list()\n",
    "                    links_a=driver.find_elements(By.TAG_NAME,\"a\")\n",
    "                    for lin in links_a:\n",
    "                        curr = lin.get_attribute(\"href\")\n",
    "                            if \"Document\" in curr :\n",
    "                                ur_links.append(lin.get_attribute(\"href\"))\n",
    "                #export\n",
    "                    with open('psikot'+str(clean[i])).txt','a') as f:\n",
    "                        for item in ur_links:\n",
    "                            f.write('\\n'+item)   \n",
    "                #press and get text\n",
    "                    driver.get(lin[0])\n",
    "                    for i in range(min(int(res.text),12):\n",
    "                        #driver.find_element(By.ID, \"repTools_ctl04_lnkToolSelect\").click()\n",
    "                        driver.find_element(By.XPATH, \"/html\")\n",
    "                        driver.find_element(By.ID, \"nextBtn\").click()\n",
    "                        driver.explicit_wait(5)\n",
    "                    \n",
    "                    \n",
    "                    \n",
    "                            \n",
    "                #\n",
    "                    juj.append(t)\n",
    "                \n",
    "                #if jujdge name in t#\n",
    "                    for j in range\n",
    "                    l=t.find(\"כב' השופט\")\n",
    "                    if  l!=0:\n",
    "                    \n",
    "                        print(\"in t \")\n",
    "                        \n",
    "                    free_edges.append(i)\n",
    "                    free_edges.append(t)\n",
    "                    \n",
    "                \n",
    "        results.append(juj)\n",
    "    \n",
    "        if len(juj)>1:\n",
    "            #write to file output.\n",
    "            df1=pd.DataFrame(juj)\n",
    "            name=str(clean[i])+'_'+str(i)\n",
    "            df1.to_csv(name ,index=False)\n",
    "\n",
    "    df2=pd.DataFrame(free_edges)\n",
    "    name=str(clean[i])+'_'+str(i)\n",
    "    df2.to_csv('free'+name ,index=False)                \n"
   ]
  },
  {
   "cell_type": "code",
   "execution_count": null,
   "id": "ef4f3370",
   "metadata": {},
   "outputs": [],
   "source": [
    "#maybeget it good"
   ]
  },
  {
   "cell_type": "code",
   "execution_count": 113,
   "id": "68f36b2b",
   "metadata": {},
   "outputs": [],
   "source": [
    "ur_links=list()\n",
    "links_a=driver.find_elements(By.TAG_NAME,\"a\")\n",
    "for lin in links_a:\n",
    "    curr = lin.get_attribute(\"href\")\n",
    "    if \"Document\" in curr :\n",
    "        ur_links.append(lin.get_attribute(\"href\"))"
   ]
  },
  {
   "cell_type": "code",
   "execution_count": 114,
   "id": "fb1f371d",
   "metadata": {},
   "outputs": [
    {
     "data": {
      "text/plain": [
       "[]"
      ]
     },
     "execution_count": 114,
     "metadata": {},
     "output_type": "execute_result"
    }
   ],
   "source": [
    "ur_links"
   ]
  },
  {
   "cell_type": "code",
   "execution_count": 130,
   "id": "144b334a",
   "metadata": {},
   "outputs": [],
   "source": [
    "ur_links=list()\n",
    "links_a=driver.find_elements(By.TAG_NAME,\"a\")\n",
    "for lin in links_a:\n",
    "    curr = lin.get_attribute(\"href\")\n",
    "    if curr:\n",
    "        if \"Document\" in curr :\n",
    "            ur_links.append(lin.get_attribute(\"href\"))\n",
    "links=list(dict.fromkeys(ur_links))"
   ]
  },
  {
   "cell_type": "code",
   "execution_count": 131,
   "id": "343c9e93",
   "metadata": {},
   "outputs": [],
   "source": [
    "driver.get(links[0])"
   ]
  },
  {
   "cell_type": "code",
   "execution_count": 132,
   "id": "cefb3400",
   "metadata": {},
   "outputs": [],
   "source": [
    "import pyautogui\n",
    "\n",
    "import os\n",
    "import time\n",
    "import pyperclip\n",
    "\n",
    "from selenium import webdriver\n",
    "from selenium.webdriver.common.keys import Keys\n"
   ]
  },
  {
   "cell_type": "code",
   "execution_count": null,
   "id": "0cc428c4",
   "metadata": {},
   "outputs": [],
   "source": [
    "with open('newlinks.txt','a') as f:\n",
    "    for item in ur_links:\n",
    "         f.write('\\n'+item)"
   ]
  },
  {
   "cell_type": "code",
   "execution_count": 29,
   "id": "a011d340",
   "metadata": {},
   "outputs": [],
   "source": [
    "from selenium.common.exceptions import NoSuchElementException\n",
    "from selenium.common.exceptions import NoAlertPresentException\n"
   ]
  },
  {
   "cell_type": "code",
   "execution_count": 19,
   "id": "9cbb659c",
   "metadata": {},
   "outputs": [
    {
     "data": {
      "text/plain": [
       "1677"
      ]
     },
     "execution_count": 19,
     "metadata": {},
     "output_type": "execute_result"
    }
   ],
   "source": [
    "len(names)"
   ]
  },
  {
   "cell_type": "markdown",
   "id": "4fc515b4",
   "metadata": {},
   "source": [
    "## "
   ]
  },
  {
   "cell_type": "code",
   "execution_count": null,
   "id": "1bd9a209",
   "metadata": {
    "scrolled": false
   },
   "outputs": [],
   "source": [
    "results=list()\n",
    "free_edges=list()\n",
    "prob_id=list()\n",
    "\n",
    "k=-1\n",
    "for i in range(1271,len(names)):\n",
    "    k=k+1\n",
    "    juj=list()\n",
    "    juj.append(i)\n",
    "    driver.get(site)\n",
    "    #searr.click()\n",
    "    #time.sleep()\n",
    "    #send keys name shofet\n",
    "    shofet=driver.find_element(By.ID,\"ctl00_mainContentPlaceHolder_judgesTxt\").send_keys(names[i])\n",
    "    click=driver.find_element(By.ID,\"anyWordsLink1\").click()\n",
    "    click=driver.find_element(By.ID,\"anyWordsLink1\").click()\n",
    "    click=driver.find_element(By.ID,\"anyWordsLink1\").click()\n",
    "    box=driver.find_element(By.ID,\"anyWordsTxt1_1\")\n",
    "    box.send_keys(words[0])\n",
    "    box=driver.find_element(By.ID,\"anyWordsTxt1_2\")\n",
    "    box.send_keys(words[1])\n",
    "    box=driver.find_element(By.ID,\"anyWordsTxt1_3\")\n",
    "    box.send_keys(words[2])\n",
    "    box=driver.find_element(By.ID,\"anyWordsTxt1_2_1\")\n",
    "    box.send_keys(words[3])\n",
    "    box=driver.find_element(By.ID,\"anyWordsTxt1_2_2\")\n",
    "    box.send_keys(words[4])\n",
    "    box=driver.find_element(By.ID,\"anyWordsTxt1_2_3\")\n",
    "    box.send_keys(words[5])\n",
    "    box=driver.find_element(By.ID,\"anyWordsTxt1_3_1\")\n",
    "    box.send_keys(words[6])\n",
    "    box=driver.find_element(By.ID,\"anyWordsTxt1_3_2\")\n",
    "    box.send_keys(words[7])\n",
    "    box=driver.find_element(By.ID,\"anyWordsTxt1_3_3\")\n",
    "    box.send_keys(words[8])\n",
    "    box=driver.find_element(By.ID,\"anyWordsTxt1_4_1\")\n",
    "    box.send_keys(words[9])\n",
    "    box=driver.find_element(By.ID,\"anyWordsTxt1_4_2\")\n",
    "    box.send_keys(words[10])\n",
    "    #time.sleep(5)\n",
    "    click=driver.find_element(By.ID,\"ctl00_mainContentPlaceHolder_morphSelect_morphTypesRadioList_4\").click()\n",
    "    click=driver.find_element(By.ID,\"ctl00_mainContentPlaceHolder_searchBtn\").click()\n",
    "    time.sleep(2)\n",
    "    try:\n",
    "        res= driver.find_element(By.CLASS_NAME,\"ResultCount\")\n",
    "        #wait.until(EC.visibility_of(res))\n",
    "        \n",
    "    except :\n",
    "        res=False\n",
    "    if res==False:    \n",
    "        try:\n",
    "            driver.switch_to.alert.dismiss()\n",
    "        except :\n",
    "            print('No alert present')\n",
    "            continue\n",
    "    #wait.until(EC.visibility_of(res))\n",
    "    \n",
    "    \n",
    "           \n",
    "        #print('no counter')\n",
    "    if res:\n",
    "            if int(res.text)>60:\n",
    "                juj.append(int(res.text))\n",
    "                nex=driver.find_element(By.ID,'nextPageImg').click()\n",
    "                time.sleep(5)\n",
    "                nex=driver.find_element(By.ID,'nextPageImg').click()\n",
    "                time.sleep(5)\n",
    "                nex=driver.find_element(By.ID,'nextPageImg').click()\n",
    "                ######\n",
    "                ##now need extract all text loop\n",
    "                try:\n",
    "                    table=driver.find_element(By.ID,\"tblResult\")\n",
    "                except:\n",
    "                    continue\n",
    "                t=table.text\n",
    "                #can add check to extract excact contact\n",
    "                juj.append(t)\n",
    "                df1=pd.DataFrame(juj)\n",
    "                name2=str(idxes[i])+'juj.csv'\n",
    "                df1.to_csv(name2 ,index=False)\n",
    "                    \n",
    "                    #now need to steal list of links from here:\n",
    "                ur_links=list()\n",
    "                links_a=driver.find_elements(By.TAG_NAME,\"a\")\n",
    "                for lin in links_a:\n",
    "                    curr = lin.get_attribute(\"href\")\n",
    "                    if curr:\n",
    "                        if \"Document\" in curr :\n",
    "                            ur_links.append(lin.get_attribute(\"href\"))\n",
    "                links=list(dict.fromkeys(ur_links))\n",
    "                #export\n",
    "                with open('psikot'+str(idxes[i-10])+'_3_'+str(idxes[i])+'.txt','a') as f:\n",
    "                    for item in ur_links:\n",
    "                        f.write('\\n'+item)   \n",
    "                #press and get text\n",
    "                driver.get(links[0])\n",
    "                for j in range(min(10,len(links))):\n",
    "                    driver.implicitly_wait(5)\n",
    "                    try:\n",
    "                        \n",
    "                        driver.find_element(By.ID, \"repTools_ctl04_lnkToolSelect\").click()\n",
    "                    except :\n",
    "                        try:\n",
    "                            driver.find_element(By.ID, \"repTools_ctl03_lnkToolSelect\").click()\n",
    "                        except:\n",
    "                            continue\n",
    "                    driver.find_element(By.ID, \"nextBtn\").click()\n",
    "                    #driver.implicitly_wait(5)\n",
    "                    \n",
    "               #write to file output.\n",
    "                     \n",
    "                    \n",
    "                            \n",
    "                #\n",
    "                \n",
    "                #if jujdge name in t#\n",
    "                \n",
    "                l=t.find(\"כב' השופט\")\n",
    "                if  l!=-1:\n",
    "                    \n",
    "                    print(\"in t \")\n",
    "                    free_edges.append(i)\n",
    "                    free_edges.append(t)\n",
    "    else:\n",
    "        prob_id.append(i)\n",
    "                \n",
    "    results.append(juj)\n",
    "    print('curr i is:'+str(i))\n",
    "    \n",
    "        \n",
    "    if (k%10)==0:\n",
    "        df2=pd.DataFrame(free_edges)\n",
    "        name=str(idxes[i-10])+'t3o'+str(idxes[i])\n",
    "        df2.to_csv('free'+name ,index=False)\n",
    "        df2=pd.DataFrame(results)\n",
    "        \n",
    "        df2.to_csv('res'+name ,index=False)\n",
    "        results=list()\n",
    "        free_edges=list()\n",
    "        \n",
    "        \n",
    "\n"
   ]
  },
  {
   "cell_type": "code",
   "execution_count": 190,
   "id": "16cca6ec",
   "metadata": {},
   "outputs": [],
   "source": [
    "df2=pd.DataFrame(free_edges)\n",
    "name=str(idxes[854-10])+'to'+str(idxes[854])\n",
    "df2.to_csv('free'+name ,index=False)\n",
    "df2=pd.DataFrame(results)\n",
    "        \n",
    "df2.to_csv('res'+name ,index=False)\n"
   ]
  },
  {
   "cell_type": "code",
   "execution_count": null,
   "id": "d04e5529",
   "metadata": {
    "scrolled": true
   },
   "outputs": [],
   "source": [
    "results=list()\n",
    "free_edges=list()\n",
    "prob_id=list()\n",
    "\n",
    "k=-1\n",
    "for i in range(864,1000):\n",
    "    k=k+1\n",
    "    juj=list()\n",
    "    juj.append(i)\n",
    "    driver.get(site_to_login)\n",
    "    #searr.click()\n",
    "    #time.sleep()\n",
    "    #send keys name shofet\n",
    "    shofet=driver.find_element(By.ID,\"ctl00_mainContentPlaceHolder_judgesTxt\").send_keys(clean[i])\n",
    "    click=driver.find_element(By.ID,\"anyWordsLink1\").click()\n",
    "    click=driver.find_element(By.ID,\"anyWordsLink1\").click()\n",
    "    click=driver.find_element(By.ID,\"anyWordsLink1\").click()\n",
    "    box=driver.find_element(By.ID,\"anyWordsTxt1_1\")\n",
    "    box.send_keys(words[0])\n",
    "    box=driver.find_element(By.ID,\"anyWordsTxt1_2\")\n",
    "    box.send_keys(words[1])\n",
    "    box=driver.find_element(By.ID,\"anyWordsTxt1_3\")\n",
    "    box.send_keys(words[2])\n",
    "    box=driver.find_element(By.ID,\"anyWordsTxt1_2_1\")\n",
    "    box.send_keys(words[3])\n",
    "    box=driver.find_element(By.ID,\"anyWordsTxt1_2_2\")\n",
    "    box.send_keys(words[4])\n",
    "    box=driver.find_element(By.ID,\"anyWordsTxt1_2_3\")\n",
    "    box.send_keys(words[5])\n",
    "    box=driver.find_element(By.ID,\"anyWordsTxt1_3_1\")\n",
    "    box.send_keys(words[6])\n",
    "    box=driver.find_element(By.ID,\"anyWordsTxt1_3_2\")\n",
    "    box.send_keys(words[7])\n",
    "    box=driver.find_element(By.ID,\"anyWordsTxt1_3_3\")\n",
    "    box.send_keys(words[8])\n",
    "    box=driver.find_element(By.ID,\"anyWordsTxt1_4_1\")\n",
    "    box.send_keys(words[9])\n",
    "    box=driver.find_element(By.ID,\"anyWordsTxt1_4_2\")\n",
    "    box.send_keys(words[10])\n",
    "    #time.sleep(5)\n",
    "    click=driver.find_element(By.ID,\"ctl00_mainContentPlaceHolder_morphSelect_morphTypesRadioList_4\").click()\n",
    "    click=driver.find_element(By.ID,\"ctl00_mainContentPlaceHolder_searchBtn\").click()\n",
    "    time.sleep(2)\n",
    "    try:\n",
    "        res= driver.find_element(By.CLASS_NAME,\"ResultCount\")\n",
    "        #wait.until(EC.visibility_of(res))\n",
    "        \n",
    "    except NoSuchElementException:\n",
    "        res=False\n",
    "    if res==False:    \n",
    "        try:\n",
    "            driver.switch_to.alert.dismiss()\n",
    "        except NoAlertPresentException:\n",
    "            print('No alert present')\n",
    "    #wait.until(EC.visibility_of(res))\n",
    "    \n",
    "    \n",
    "           \n",
    "        #print('no counter')\n",
    "    if res:\n",
    "            if int(res.text)>4:\n",
    "                juj.append(int(res.text))\n",
    "                \n",
    "                ######\n",
    "                ##now need extract all text loop\n",
    "                table=driver.find_element(By.ID,\"tblResult\")\n",
    "                t=table.text\n",
    "                #can add check to extract excact contact\n",
    "                juj.append(t)\n",
    "                df1=pd.DataFrame(juj)\n",
    "                name2=str(clean[i])+'_00_'+str(i)\n",
    "                df1.to_csv(name2 ,index=False)\n",
    "                    \n",
    "                    #now need to steal list of links from here:\n",
    "                ur_links=list()\n",
    "                links_a=driver.find_elements(By.TAG_NAME,\"a\")\n",
    "                for lin in links_a:\n",
    "                    curr = lin.get_attribute(\"href\")\n",
    "                    if curr:\n",
    "                        if \"Document\" in curr :\n",
    "                            ur_links.append(lin.get_attribute(\"href\"))\n",
    "                links=list(dict.fromkeys(ur_links))\n",
    "                #export\n",
    "                with open('psikot'+str(clean[i])+'.txt','a') as f:\n",
    "                    for item in ur_links:\n",
    "                        f.write('\\n'+item)   \n",
    "                #press and get text\n",
    "                driver.get(links[0])\n",
    "                for j in range(min(10,len(links))):\n",
    "                    driver.implicitly_wait(5)\n",
    "                    driver.find_element(By.ID, \"repTools_ctl04_lnkToolSelect\").click()\n",
    "                    \n",
    "                    driver.find_element(By.ID, \"nextBtn\").click()\n",
    "                    #driver.implicitly_wait(5)\n",
    "                    \n",
    "               #write to file output.\n",
    "                     \n",
    "                    \n",
    "                            \n",
    "                #\n",
    "                \n",
    "                #if jujdge name in t#\n",
    "                \n",
    "                l=t.find(\"כב' השופט\")\n",
    "                if  l!=-1:\n",
    "                    \n",
    "                    print(\"in t \")\n",
    "                    free_edges.append(i)\n",
    "                    free_edges.append(t)\n",
    "    else:\n",
    "        prob_id.append(i)\n",
    "                \n",
    "    results.append(juj)\n",
    "    print('curr i is:'+str(i))\n",
    "    \n",
    "        \n",
    "    if (k%10)==0:\n",
    "        df2=pd.DataFrame(free_edges)\n",
    "        name=str(k-10)+'to'+str(clean[i])\n",
    "        df2.to_csv('free'+name ,index=False)\n",
    "        df2=pd.DataFrame(results)\n",
    "        \n",
    "        df2.to_csv('res'+name ,index=False)\n",
    "        results=list()\n",
    "        free_edges=list()\n",
    "        \n",
    "        \n",
    "\n"
   ]
  },
  {
   "cell_type": "code",
   "execution_count": 96,
   "id": "a949d0c6",
   "metadata": {},
   "outputs": [
    {
     "name": "stdout",
     "output_type": "stream",
     "text": [
      "No alert present\n"
     ]
    }
   ],
   "source": [
    "try:\n",
    "    res= driver.find_element(By.CLASS_NAME,\"ResultCount\")\n",
    "    wait.until(EC.visibility_of(res))\n",
    "        \n",
    "except NoSuchElementException:\n",
    "    res=False\n",
    "    if res==False:    \n",
    "        try:\n",
    "            driver.switch_to.alert.dismiss()\n",
    "        except NoAlertPresentException:\n",
    "            print('No alert present')"
   ]
  },
  {
   "cell_type": "code",
   "execution_count": 141,
   "id": "796c3e87",
   "metadata": {},
   "outputs": [],
   "source": [
    "df2=pd.DataFrame(free_edges)\n",
    "name='0-'\n",
    "df2.to_csv('free'+name ,index=False)\n",
    "df2=pd.DataFrame(results)\n",
    "        \n",
    "df2.to_csv('res'+name ,index=False)"
   ]
  },
  {
   "cell_type": "code",
   "execution_count": 51,
   "id": "84efc8fc",
   "metadata": {
    "scrolled": true
   },
   "outputs": [],
   "source": [
    "driver.get(links[0])\n",
    "for i in range(2,len(links)):\n",
    "    driver.find_element(By.ID, \"repTools_ctl04_lnkToolSelect\").click()\n",
    "    driver.find_element(By.ID, \"nextBtn\").click()\n",
    "    driver.implicitly_wait(5)"
   ]
  },
  {
   "cell_type": "code",
   "execution_count": 45,
   "id": "ae20aa22",
   "metadata": {},
   "outputs": [],
   "source": [
    "for lin in links_a:\n",
    "    curr = lin.get_attribute(\"href\")\n",
    "    if curr:\n",
    "        if \"Document\" in curr :\n",
    "            ur_links.append(lin.get_attribute(\"href\"))\n",
    "links=list(dict.fromkeys(ur_links))\n",
    "\n",
    "    "
   ]
  },
  {
   "cell_type": "code",
   "execution_count": 120,
   "id": "84c813d3",
   "metadata": {},
   "outputs": [],
   "source": [
    "import re"
   ]
  },
  {
   "cell_type": "code",
   "execution_count": 140,
   "id": "8c566c7a",
   "metadata": {},
   "outputs": [],
   "source": [
    "reg=\"\\d{1}\"\n",
    "regex=reg+' עמודים'\n",
    "x=re.search(regex,bb)"
   ]
  },
  {
   "cell_type": "code",
   "execution_count": 182,
   "id": "e0a7d1fe",
   "metadata": {},
   "outputs": [],
   "source": [
    "def split(string):\n",
    "    k=''\n",
    "    k=string.replace('\\n','')\n",
    "    oldline=0\n",
    "    cases=list()\n",
    "    pp=re.findall(regex,k)\n",
    "    #p=int(len(pp))\n",
    "    if pp:\n",
    "        p=int(len(pp))\n",
    "        for i in range(p):\n",
    "            x=re.search(regex,k)\n",
    "            \n",
    "            if x:\n",
    "                nnn=x.end()\n",
    "                \n",
    "                t=re.search(regex,k[oldline:])\n",
    "                \n",
    "                p=k[oldline:int(x.end())]\n",
    "                k=k[x.end():]\n",
    "                \n",
    "                cases.append(p)\n",
    "                oldline=int(x.end())\n",
    "            \n",
    "            else:\n",
    "                cases.append(k)\n",
    "                \n",
    "                \n",
    "                \n",
    "    \n",
    "        \n",
    "    return cases       "
   ]
  },
  {
   "cell_type": "code",
   "execution_count": 183,
   "id": "5b0fdb91",
   "metadata": {},
   "outputs": [],
   "source": [
    "dd=split(bb)"
   ]
  },
  {
   "cell_type": "code",
   "execution_count": 184,
   "id": "10666967",
   "metadata": {},
   "outputs": [
    {
     "data": {
      "text/plain": [
       "[' פלוני נגד הפניקס חברה לביטוח בע\"מכבוד השופטת אפרת אייכנשטיין שמלהדינים שלום 2023 (0069) 1309מופע ראשון:שהתאונה ארעה עקב שימוש בכוח המכני של המשאית, בהתאם להלכה הפסוקה, הקובעת כי סעיף 1 לחוק הפלת\"ד חל גם על כלי רכב רב תכליתיים ודו תכליתיים. ראו למשל ברע\"א 7254 12 תאופיק ג\\'ברין ושות\\' נ\\' עזבון המנוח זכריא אסעד ג\\'בארין ז\"ל ואח\\', שם נקבע כדלקמן: \"על מנת שאירוע תאונתי יהיה כלול בגדרי החזקה המרבה הנדונה, צריכים להתקיים מספר תנאים: ראשית, החזקה רלבנטית לתאונות בהן מעורב רכב רב-ייעודי (או רב-תכליתי, לרבות דו-תכליתי), שיש לו ייעוד נוסף על ייעודו 7254פסק דיןתא 25375-01-1928/05/2023שלום ירושלים12 עמודים',\n",
       " 'ום ירושלים9 עמודים',\n",
       " 'ם23 עמודים',\n",
       " '',\n",
       " '',\n",
       " '',\n",
       " 'ם',\n",
       " '',\n",
       " 'רושלים8 עמודים',\n",
       " '',\n",
       " 'דים',\n",
       " '',\n",
       " 'רושלים7 עמודים',\n",
       " '',\n",
       " '']"
      ]
     },
     "execution_count": 184,
     "metadata": {},
     "output_type": "execute_result"
    }
   ],
   "source": [
    "dd"
   ]
  },
  {
   "cell_type": "code",
   "execution_count": 44,
   "id": "f88e39d5",
   "metadata": {},
   "outputs": [],
   "source": [
    "wait.until(EC.visibility_of_element_located(\"SeleniumHQ Browser Automation\"))\n",
    "    ########visibility_of_element_located\n",
    "driver.implicitly_wait(10)"
   ]
  },
  {
   "cell_type": "code",
   "execution_count": 92,
   "id": "10910cd2",
   "metadata": {},
   "outputs": [
    {
     "data": {
      "text/plain": [
       "<selenium.webdriver.remote.webelement.WebElement (session=\"88d8a49e8b559d0f71ca48ea66552062\", element=\"AA7EF0C6E887529C581404153016CC34_element_4650\")>"
      ]
     },
     "execution_count": 92,
     "metadata": {},
     "output_type": "execute_result"
    }
   ],
   "source": [
    "res= driver.find_element(By.CLASS_NAME,\"ResultCount\")\n",
    "wait.until(EC.visibility_of(res))"
   ]
  },
  {
   "cell_type": "code",
   "execution_count": 48,
   "id": "e1840d5a",
   "metadata": {},
   "outputs": [],
   "source": [
    "res= driver.find_element(By.CLASS_NAME,\"ResultCount\")"
   ]
  },
  {
   "cell_type": "code",
   "execution_count": 23,
   "id": "4d41f0c9",
   "metadata": {},
   "outputs": [],
   "source": [
    "#now loop for srch items\n",
    "with open('searchWORDS.txt','r',encoding=\"utf8\") as names2:\n",
    "    name2=names2.readlines()\n",
    "words=list()\n",
    "for i in range(len(name2)):\n",
    "    words.append(name2[i].replace('\\n',''))\n",
    "\n"
   ]
  },
  {
   "cell_type": "code",
   "execution_count": 24,
   "id": "775e1d58",
   "metadata": {
    "scrolled": true
   },
   "outputs": [
    {
     "data": {
      "text/plain": [
       "['בדנ\"א',\n",
       " 'בבג\"ץ',\n",
       " 'בבג\"צ',\n",
       " 'בע\"פ',\n",
       " 'בד\"נ',\n",
       " 'בדנג\"ץ',\n",
       " 'ברע\"א',\n",
       " 'ברע\"פ',\n",
       " 'בדנ\"פ',\n",
       " 'בע\"ו',\n",
       " 'בע\"א']"
      ]
     },
     "execution_count": 24,
     "metadata": {},
     "output_type": "execute_result"
    }
   ],
   "source": [
    "words"
   ]
  }
 ],
 "metadata": {
  "kernelspec": {
   "display_name": "Python 3 (ipykernel)",
   "language": "python",
   "name": "python3"
  },
  "language_info": {
   "codemirror_mode": {
    "name": "ipython",
    "version": 3
   },
   "file_extension": ".py",
   "mimetype": "text/x-python",
   "name": "python",
   "nbconvert_exporter": "python",
   "pygments_lexer": "ipython3",
   "version": "3.9.6"
  }
 },
 "nbformat": 4,
 "nbformat_minor": 5
}
